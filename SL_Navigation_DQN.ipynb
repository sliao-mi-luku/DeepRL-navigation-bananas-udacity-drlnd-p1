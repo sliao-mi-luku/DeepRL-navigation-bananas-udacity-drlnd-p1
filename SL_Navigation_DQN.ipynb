{
 "cells": [
  {
   "cell_type": "markdown",
   "metadata": {},
   "source": [
    "# drlnd Project 1: Navigation\n",
    "\n",
    "\n",
    "https://github.com/sliao-mi-luku/DeepRL-navigation-bananas-udacity-drlnd-p1/tree/master\n",
    "\n",
    "\n",
    "Reinforcement learning environment by Unity ML-Agents\n",
    "\n",
    "This corresponds to Project #1 of Udacity's Deep Reinforcement Learning Nanodegree (drlnd)\n",
    "\n",
    "https://www.udacity.com/course/deep-reinforcement-learning-nanodegree--nd893\n",
    "\n",
    "\n",
    "Reference: the main code was inspired by the coding exercise of Udacity's **Deep Q-Networks** lesson\n",
    "\n",
    "\n",
    "## Box 1: Starting the environment"
   ]
  },
  {
   "cell_type": "code",
   "execution_count": 1,
   "metadata": {},
   "outputs": [
    {
     "name": "stdout",
     "output_type": "stream",
     "text": [
      "\n",
      "Device: cuda:0\n",
      "\n"
     ]
    },
    {
     "name": "stderr",
     "output_type": "stream",
     "text": [
      "INFO:unityagents:\n",
      "'Academy' started successfully!\n",
      "Unity Academy name: Academy\n",
      "        Number of Brains: 1\n",
      "        Number of External Brains : 1\n",
      "        Lesson number : 0\n",
      "        Reset Parameters :\n",
      "\t\t\n",
      "Unity brain name: BananaBrain\n",
      "        Number of Visual Observations (per agent): 0\n",
      "        Vector Observation space type: continuous\n",
      "        Vector Observation space size (per agent): 37\n",
      "        Number of stacked Vector Observation: 1\n",
      "        Vector Action space type: discrete\n",
      "        Vector Action space size (per agent): 4\n",
      "        Vector Action descriptions: , , , \n"
     ]
    },
    {
     "name": "stdout",
     "output_type": "stream",
     "text": [
      "Number of agents: 1\n",
      "Number of actions: 4\n",
      "States look like: [1.         0.         0.         0.         0.84408134 0.\n",
      " 0.         1.         0.         0.0748472  0.         1.\n",
      " 0.         0.         0.25755    1.         0.         0.\n",
      " 0.         0.74177343 0.         1.         0.         0.\n",
      " 0.25854847 0.         0.         1.         0.         0.09355672\n",
      " 0.         1.         0.         0.         0.31969345 0.\n",
      " 0.        ]\n",
      "States have length: 37\n",
      "\n",
      "Box 1 done!\n"
     ]
    }
   ],
   "source": [
    "from unityagents import UnityEnvironment\n",
    "import numpy as np\n",
    "\n",
    "import random\n",
    "import torch\n",
    "import torch.nn as nn\n",
    "import torch.nn.functional as F\n",
    "import torch.optim as optim\n",
    "from collections import deque, namedtuple\n",
    "import matplotlib.pyplot as plt\n",
    "\n",
    "%matplotlib inline\n",
    "\n",
    "\n",
    "from networkModels import Network\n",
    "from buffer import Buffer\n",
    "from dqnAgent import DQN_Agent\n",
    "\n",
    "\n",
    "device = torch.device(\"cuda:0\" if torch.cuda.is_available() else \"cpu\")\n",
    "print(\"\\nDevice: {}\\n\".format(device))\n",
    "\n",
    "\n",
    "\"\"\"\n",
    "env : paste the path to Banana.exe\n",
    "\"\"\"\n",
    "\n",
    "env = UnityEnvironment(file_name = \"./Banana_Windows_x86_64/Banana.exe\")\n",
    "\n",
    "\"\"\"\n",
    "Environments contain brains which are responsible for deciding the actions of their associated agents.\n",
    "Here we check for the first brain available, and set it as the default brain we will be controlling from Python.\n",
    "\"\"\"\n",
    "\n",
    "# get the default brain\n",
    "brain_name = env.brain_names[0]\n",
    "brain = env.brains[brain_name]\n",
    "\n",
    "\n",
    "\"\"\"\n",
    "states: 37 dimensions -  the agent's velocity, along with ray-based perception of objects around agent's forward direction\n",
    "\n",
    "actions: 0 - walk forward\n",
    "         1 - walk backward\n",
    "         2 - turn left\n",
    "         3 - turn right\n",
    "\n",
    "rewards: +1 for collecting a yellow banana\n",
    "         -1 for collecting a blue banana\n",
    "\n",
    "\"\"\"\n",
    "\n",
    "# reset the environment\n",
    "env_info = env.reset(train_mode=True)[brain_name]\n",
    "\n",
    "# number of agents in the environment\n",
    "print('Number of agents:', len(env_info.agents))\n",
    "\n",
    "# number of actions\n",
    "action_size = brain.vector_action_space_size\n",
    "print('Number of actions:', action_size)\n",
    "\n",
    "# examine the state space \n",
    "state = env_info.vector_observations[0]\n",
    "print('States look like:', state)\n",
    "state_size = len(state)\n",
    "print('States have length:', state_size)\n",
    "\n",
    "\n",
    "print(\"\\nBox 1 done!\")"
   ]
  },
  {
   "cell_type": "markdown",
   "metadata": {},
   "source": [
    "## Box 2: Setting parameters"
   ]
  },
  {
   "cell_type": "code",
   "execution_count": 8,
   "metadata": {},
   "outputs": [],
   "source": [
    "EPISODES = 1000\n",
    "\n",
    "UPDATE_EVERY = 10\n",
    "\n",
    "PRINT_EVERY = 100\n",
    "\n",
    "# hidden layers\n",
    "hidden_sizes = [400, 300]\n",
    "\n",
    "# discounting\n",
    "gamma = 0.99\n",
    "\n",
    "# Epsilon-Greedy\n",
    "eps_start = 1.0\n",
    "eps_end = 0.01\n",
    "eps_decay = 0.995\n",
    "\n",
    "# learning rate\n",
    "lr = 1e-4\n",
    "\n",
    "# soft update\n",
    "tau = 1e-3\n",
    "\n",
    "# buffer\n",
    "buffer_size = int(1e5)\n",
    "batch_size = 64\n",
    "\n",
    "# seed\n",
    "seed = 0"
   ]
  },
  {
   "cell_type": "markdown",
   "metadata": {},
   "source": [
    "## Box 3: Deep Q-Learning"
   ]
  },
  {
   "cell_type": "code",
   "execution_count": 9,
   "metadata": {},
   "outputs": [
    {
     "name": "stdout",
     "output_type": "stream",
     "text": [
      "hidden_sizes = [400, 300]\n",
      "gamma = 0.99\n",
      "lr = 0.0001\n",
      "tau = 0.001\n",
      "buffer size = 100000\n",
      "batch_size = 64\n",
      "Episode 100\tScore: 2.00\tAvg: 0.67\tLoss: 0.00082\n",
      "Episode 200\tScore: 4.00\tAvg: 3.78\tLoss: 0.00268\n",
      "Episode 300\tScore: 6.00\tAvg: 6.96\tLoss: 0.00803\n",
      "Episode 400\tScore: 14.00\tAvg: 8.71\tLoss: 0.0134\n",
      "Episode 500\tScore: 11.00\tAvg: 11.29\tLoss: 0.0174\n",
      "Episode 583\tScore: 15.00\tAvg: 13.01\tLoss: 0.0338\n",
      "Environemnt solved after 483 episodes\tAvg score: 13.01\n"
     ]
    },
    {
     "data": {
      "image/png": "[encoded data removed]",
      "text/plain": [
       "<Figure size 432x288 with 1 Axes>"
      ]
     },
     "metadata": {
      "needs_background": "light"
     },
     "output_type": "display_data"
    },
    {
     "data": {
      "image/png": "[encoded data removed]",
      "text/plain": [
       "<Figure size 432x288 with 1 Axes>"
      ]
     },
     "metadata": {
      "needs_background": "light"
     },
     "output_type": "display_data"
    },
    {
     "name": "stdout",
     "output_type": "stream",
     "text": [
      "\n",
      "trained weights were saved\n"
     ]
    }
   ],
   "source": [
    "## print parameters\n",
    "print(\"hidden_sizes = {}\".format(hidden_sizes))\n",
    "print(\"gamma = {}\".format(gamma))\n",
    "print(\"lr = {}\".format(lr))\n",
    "print(\"tau = {}\".format(tau))\n",
    "print(\"buffer size = {}\".format(buffer_size))\n",
    "print(\"batch_size = {}\".format(batch_size))\n",
    "\n",
    "## Training\n",
    "scores_history = []\n",
    "scores_deque = deque(maxlen = 100)\n",
    "\n",
    "loss_list = []\n",
    "\n",
    "eps = eps_start # initial epsilon\n",
    "\n",
    "agent = DQN_Agent(37, 4, hidden_sizes, seed, lr, gamma, tau)\n",
    "\n",
    "buffer = Buffer(buffer_size, batch_size, seed)\n",
    "\n",
    "for ep in range(1, EPISODES + 1):\n",
    "    # reset the env\n",
    "    env_info = env.reset(train_mode = True)[brain_name]\n",
    "    state = env_info.vector_observations[0]\n",
    "    \n",
    "    score = 0\n",
    "    \n",
    "    t_step = 0\n",
    "\n",
    "    while True:\n",
    "        t_step += 1 \n",
    "        state_t = torch.from_numpy(state).float().to(device)\n",
    "        action = agent.act_eps(state_t, eps)\n",
    "        env_info = env.step(int(action))[brain_name]\n",
    "        next_state = env_info.vector_observations[0]\n",
    "        reward = env_info.rewards[0]\n",
    "        done = env_info.local_done[0]\n",
    "        \n",
    "        # add replay to buffer\n",
    "        buffer.add(state, action, reward, next_state, done)\n",
    "        \n",
    "        if t_step % UPDATE_EVERY == 0 and len(buffer) >= batch_size:\n",
    "            replays = buffer.sample()\n",
    "            agent.learn(replays)\n",
    "\n",
    "        state = next_state\n",
    "        score += reward\n",
    "        \n",
    "        if done:\n",
    "            break\n",
    "\n",
    "\n",
    "    scores_history.append(score)\n",
    "    scores_deque.append(score)\n",
    "    \n",
    "    loss_list.append(agent.loss)\n",
    "    \n",
    "    eps = max(eps*eps_decay, eps_end)\n",
    "    \n",
    "    avg_score = np.mean(scores_deque)\n",
    "\n",
    "    print(\"\\rEpisode {}\\tScore: {:.2f}\\tAvg: {:.2f}\\tLoss: {:.4f}\".format(ep, score, avg_score, agent.loss), end = \"\")\n",
    "\n",
    "    if ep % PRINT_EVERY == 0:\n",
    "        print(\"\\rEpisode {}\\tScore: {:.2f}\\tAvg: {:.2f}\\tLoss: {:.4f}\".format(ep, score, avg_score, agent.loss))\n",
    "\n",
    "    if np.mean(scores_deque) >= 13.0 and len(scores_deque) >= 100:\n",
    "        print(\"\\nEnvironemnt solved after {:d} episodes\\tAvg score: {:.2f}\".format(ep-100, avg_score))\n",
    "        break\n",
    "\n",
    "        \n",
    "plt.figure()\n",
    "plt.plot(np.arange(len(scores_history)), scores_history)\n",
    "plt.plot([0, len(scores_history)-1], [13, 13], 'r--')\n",
    "plt.title(\"Scores\")\n",
    "plt.xlabel(\"Episodes\")\n",
    "plt.ylabel(\"Score\")\n",
    "\n",
    "plt.figure()\n",
    "plt.plot(np.arange(len(loss_list)), loss_list)\n",
    "plt.title(\"Loss\")\n",
    "plt.xlabel(\"Episodes\")\n",
    "plt.ylabel(\"Loss\")\n",
    "\n",
    "plt.show()\n",
    "\n",
    "torch.save(agent.local.state_dict(), 'checkpoint.pth')\n",
    "print(\"\\ntrained weights were saved\")"
   ]
  },
  {
   "cell_type": "markdown",
   "metadata": {},
   "source": [
    "## Box 4: Loading trained weight"
   ]
  },
  {
   "cell_type": "code",
   "execution_count": 11,
   "metadata": {},
   "outputs": [
    {
     "name": "stdout",
     "output_type": "stream",
     "text": [
      "Score: 20.0\n"
     ]
    }
   ],
   "source": [
    "### Watch a trained agent\n",
    "\n",
    "agent = DQN_Agent(37, 4, hidden_sizes, seed, lr, gamma, tau)\n",
    "\n",
    "agent.local.load_state_dict(torch.load('checkpoint.pth'))\n",
    "    \n",
    "# reset the env\n",
    "env_info = env.reset(train_mode = False)[brain_name]\n",
    "state = env_info.vector_observations[0]\n",
    "score = 0\n",
    "\n",
    "while True:\n",
    "    action = agent.act(torch.from_numpy(state).float().to(device))\n",
    "    env_info = env.step(int(action))[brain_name]\n",
    "    next_state = env_info.vector_observations[0]\n",
    "    reward = env_info.rewards[0]\n",
    "    done = env_info.local_done[0]\n",
    "    state = next_state\n",
    "    score += reward\n",
    "    if done:\n",
    "        break\n",
    "\n",
    "print(\"Score: {}\".format(score))\n",
    "        "
   ]
  },
  {
   "cell_type": "code",
   "execution_count": 12,
   "metadata": {},
   "outputs": [],
   "source": [
    "env.close()"
   ]
  },
  {
   "cell_type": "code",
   "execution_count": null,
   "metadata": {},
   "outputs": [],
   "source": []
  }
 ],
 "metadata": {
  "kernelspec": {
   "display_name": "drlnd",
   "language": "python",
   "name": "drlnd"
  },
  "language_info": {
   "codemirror_mode": {
    "name": "ipython",
    "version": 3
   },
   "file_extension": ".py",
   "mimetype": "text/x-python",
   "name": "python",
   "nbconvert_exporter": "python",
   "pygments_lexer": "ipython3",
   "version": "3.6.10"
  }
 },
 "nbformat": 4,
 "nbformat_minor": 2
}
